{
 "cells": [
  {
   "metadata": {
    "ExecuteTime": {
     "end_time": "2025-06-02T08:28:12.155117Z",
     "start_time": "2025-06-02T08:19:34.252029Z"
    }
   },
   "cell_type": "code",
   "source": [
    "import os\n",
    "import pandas as pd\n",
    "import numpy as np\n",
    "from cdlib import NodeClustering\n",
    "from cdlib.evaluation import overlapping_normalized_mutual_information_LFK,omega\n",
    "# 从main_synthetic获得聚类结果后，使用此函数计算NMI和Omega\n",
    "def load_communities(file_path):\n",
    "    data = np.loadtxt(file_path, delimiter=',')\n",
    "    return [list(np.where(data[:, i] == 1)[0]) for i in range(data.shape[1]) if np.any(data[:, i] == 1)]\n",
    "\n",
    "\n",
    "# 结果文件夹路径\n",
    "folder_path = 'result_synthetic_mu'\n",
    "output_file = os.path.join(folder_path, 'metrics.csv')\n",
    "results = []\n",
    "\n",
    "# 遍历文件夹中所有 _trueNodes.csv 文件\n",
    "for filename in os.listdir(folder_path):\n",
    "    if filename.endswith('_trueCommunity.csv'):\n",
    "        base = filename.replace('_trueCommunity.csv', '')\n",
    "        true_file = os.path.join(folder_path, f\"{base}_trueCommunity.csv\")\n",
    "        pred_file = os.path.join(folder_path, f\"{base}_preCommunity.csv\")\n",
    "        \n",
    "        if os.path.exists(pred_file):\n",
    "            # 加载社区列表\n",
    "            true_communities = load_communities(true_file)\n",
    "            pred_communities = load_communities(pred_file)\n",
    "            \n",
    "            # 构造 NodeClustering 对象\n",
    "            true_nc = NodeClustering(true_communities, graph=None, method_name='Ground Truth')\n",
    "            pred_nc = NodeClustering(pred_communities, graph=None, method_name='Prediction')\n",
    "            \n",
    "            # 计算 ONMI 和 OMEGA\n",
    "            onmi = overlapping_normalized_mutual_information_LFK(true_nc, pred_nc).score\n",
    "            omega_value = omega(true_nc, pred_nc).score\n",
    "            \n",
    "            \n",
    "            print(f'{base} - ONMI: {onmi:.4f}, OMEGA: {omega_value:.4f}')\n",
    "            results.append({'FileName': base, 'ONMI': onmi, 'OMEGA': omega_value})\n",
    "        else:\n",
    "            print(f'Warning: {pred_file} not found')\n",
    "\n",
    "# 保存结果到 CSV 文件\n",
    "df = pd.DataFrame(results)\n",
    "df.to_csv(output_file, index=False)\n",
    "print(f\"结果保存至 {output_file}\")\n"
   ],
   "id": "262efc088839c1f9",
   "outputs": [
    {
     "name": "stdout",
     "output_type": "stream",
     "text": [
      "5000-0.05-18-50 - ONMI: 0.9667, OMEGA: 0.9743\n",
      "5000-0.1-18-50 - ONMI: 0.9438, OMEGA: 0.8894\n",
      "5000-0.15-18-50 - ONMI: 0.9667, OMEGA: 0.9743\n",
      "5000-0.2-18-50 - ONMI: 0.7443, OMEGA: 0.5282\n",
      "5000-0.25-18-50 - ONMI: 0.7844, OMEGA: 0.6694\n",
      "5000-0.3-18-50 - ONMI: 0.7587, OMEGA: 0.6101\n",
      "5000-0.35-18-50 - ONMI: 0.7472, OMEGA: 0.5197\n",
      "5000-0.4-18-50 - ONMI: 0.5440, OMEGA: 0.3660\n",
      "5000-0.45-18-50 - ONMI: 0.4078, OMEGA: 0.1651\n",
      "5000-0.5-18-50 - ONMI: 0.4540, OMEGA: 0.1831\n",
      "5000-0.55-18-50 - ONMI: 0.3366, OMEGA: 0.1434\n",
      "5000-0.6-18-50 - ONMI: 0.2550, OMEGA: 0.0780\n",
      "结果保存至 result_synthetic_mu\\metrics.csv\n"
     ]
    }
   ],
   "execution_count": 35
  },
  {
   "metadata": {},
   "cell_type": "code",
   "outputs": [],
   "execution_count": null,
   "source": "",
   "id": "67a392abe48c4d90"
  }
 ],
 "metadata": {
  "kernelspec": {
   "display_name": "Python 3",
   "language": "python",
   "name": "python3"
  },
  "language_info": {
   "codemirror_mode": {
    "name": "ipython",
    "version": 2
   },
   "file_extension": ".py",
   "mimetype": "text/x-python",
   "name": "python",
   "nbconvert_exporter": "python",
   "pygments_lexer": "ipython2",
   "version": "2.7.6"
  }
 },
 "nbformat": 4,
 "nbformat_minor": 5
}
